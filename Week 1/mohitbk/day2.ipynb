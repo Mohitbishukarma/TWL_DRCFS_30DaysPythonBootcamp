{
 "cells": [
  {
   "cell_type": "markdown",
   "metadata": {},
   "source": [
    "# Control Flow Statement"
   ]
  },
  {
   "cell_type": "markdown",
   "metadata": {},
   "source": [
    "### Driving License age validation"
   ]
  },
  {
   "cell_type": "code",
   "execution_count": null,
   "metadata": {},
   "outputs": [],
   "source": [
    "# Taking age as input \n",
    "age = int(input(\"Enter your age: \"))"
   ]
  },
  {
   "cell_type": "code",
   "execution_count": null,
   "metadata": {},
   "outputs": [],
   "source": [
    "# checking age is enough for driving or not.\n",
    "if age>=18:\n",
    "    print(\"You can drive.\")\n",
    "else:\n",
    "    print(\"You can't drive.\")"
   ]
  },
  {
   "cell_type": "markdown",
   "metadata": {},
   "source": [
    "### Greatest Number among three numbers\n",
    "1. Taking three numbers from user as input\n",
    "2. Converting them into integer\n",
    "3. Checking first number is grater than remaining two numbers or not..similarly for all\n",
    "4. Print the greatest number."
   ]
  },
  {
   "cell_type": "code",
   "execution_count": null,
   "metadata": {},
   "outputs": [],
   "source": [
    "# Taking numbers as input\n",
    "a = input(\"Enter the first number: \")\n",
    "b = input(\"Enter the second number: \")\n",
    "c = input(\"Enter the third number: \")"
   ]
  },
  {
   "cell_type": "code",
   "execution_count": null,
   "metadata": {},
   "outputs": [],
   "source": [
    "# Converting them into integer\n",
    "a = int(a)\n",
    "b = int(b)\n",
    "c = int(c)"
   ]
  },
  {
   "cell_type": "code",
   "execution_count": null,
   "metadata": {},
   "outputs": [],
   "source": [
    "# checking the gratest number\n",
    "if a>b and a>c:\n",
    "    print(\"The gratest number is\",a)\n",
    "elif b>a and b>c:\n",
    "    print(\"The gratest number is\",b)\n",
    "else:\n",
    "    print(\"The gratest number is\",c)\n"
   ]
  },
  {
   "cell_type": "markdown",
   "metadata": {},
   "source": [
    "### Login System\n",
    "1. Taking username and password as input and storing them in variable\n",
    "2. checking the username and password is valid or not\n",
    "3. Print \"Welcome username\", If username and password is valid. else \"Invalid username and password\""
   ]
  },
  {
   "cell_type": "code",
   "execution_count": null,
   "metadata": {},
   "outputs": [],
   "source": [
    "# Taking username and password as input\n",
    "username = input(\"Enter your username: \")\n",
    "password = input(\"Enter your password: \")"
   ]
  },
  {
   "cell_type": "code",
   "execution_count": null,
   "metadata": {},
   "outputs": [],
   "source": [
    "# chceking the credentials\n",
    "if username==\"mohit\" and password==\"moHts\":\n",
    "    print(\"Welcome\",username)\n",
    "elif username == \"yubraj\" and password == \"yubi2\":\n",
    "    print(\"Welcome\",username)\n",
    "else:\n",
    "    print(\"Invalid username and password.\")"
   ]
  },
  {
   "cell_type": "markdown",
   "metadata": {},
   "source": [
    "# Loops in Python"
   ]
  },
  {
   "cell_type": "markdown",
   "metadata": {},
   "source": [
    "### TYpes of loops:\n",
    "1. for loop\n",
    "2. while loop"
   ]
  },
  {
   "cell_type": "markdown",
   "metadata": {},
   "source": [
    "### for loop"
   ]
  },
  {
   "cell_type": "code",
   "execution_count": null,
   "metadata": {},
   "outputs": [],
   "source": [
    "for i in range(10):\n",
    "    print(i)\n"
   ]
  },
  {
   "cell_type": "code",
   "execution_count": null,
   "metadata": {},
   "outputs": [],
   "source": [
    "for i in range(1,11,2):\n",
    "    print(i)\n"
   ]
  },
  {
   "cell_type": "code",
   "execution_count": null,
   "metadata": {},
   "outputs": [],
   "source": [
    "\n",
    "for i in range(10):\n",
    "    if i%2==0:\n",
    "        print(str(i)+\" is even\")\n",
    "    else:\n",
    "        print(str(i)+\" is odd\")"
   ]
  },
  {
   "cell_type": "code",
   "execution_count": null,
   "metadata": {},
   "outputs": [],
   "source": [
    "\n",
    "for i in range(10,0,-1):\n",
    "    print(i)"
   ]
  },
  {
   "cell_type": "code",
   "execution_count": 16,
   "metadata": {},
   "outputs": [],
   "source": [
    "# Enter your code here. Read input from STDIN. Print output to STDOUT\n",
    "K = int(input())\n",
    "lst = input().split()\n",
    "\n",
    "for i in lst:\n",
    "    if lst.count(int(i))==1:\n",
    "        print(int(i))"
   ]
  },
  {
   "cell_type": "code",
   "execution_count": null,
   "metadata": {},
   "outputs": [],
   "source": [
    "l = [2,4,4,8]\n",
    "l.count(2)"
   ]
  }
 ],
 "metadata": {
  "kernelspec": {
   "display_name": "Python 3.10.0 64-bit",
   "language": "python",
   "name": "python3"
  },
  "language_info": {
   "codemirror_mode": {
    "name": "ipython",
    "version": 3
   },
   "file_extension": ".py",
   "mimetype": "text/x-python",
   "name": "python",
   "nbconvert_exporter": "python",
   "pygments_lexer": "ipython3",
   "version": "3.10.0"
  },
  "orig_nbformat": 4,
  "vscode": {
   "interpreter": {
    "hash": "35af29628e5b65fb0b827a5f410b8baaaafdb84293504da61cc5cd9f30000cfb"
   }
  }
 },
 "nbformat": 4,
 "nbformat_minor": 2
}
